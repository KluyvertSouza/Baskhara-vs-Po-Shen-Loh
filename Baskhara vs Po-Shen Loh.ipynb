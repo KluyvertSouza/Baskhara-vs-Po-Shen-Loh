{
 "cells": [
  {
   "cell_type": "code",
   "execution_count": 24,
   "metadata": {},
   "outputs": [],
   "source": [
    "from fractions import Fraction\n",
    "import math"
   ]
  },
  {
   "cell_type": "code",
   "execution_count": 88,
   "metadata": {},
   "outputs": [],
   "source": [
    "a = float(1)\n",
    "b = float(5)\n",
    "c = float(-2)"
   ]
  },
  {
   "cell_type": "code",
   "execution_count": 89,
   "metadata": {},
   "outputs": [
    {
     "name": "stdout",
     "output_type": "stream",
     "text": [
      "As raizes são -1977/368 e 137/368\n"
     ]
    }
   ],
   "source": [
    "# Calculo do delta\n",
    "delta = (b**2) - (4*a*c)\n",
    "if delta<0 :\n",
    "    print('A equação não possui raiz real')\n",
    "elif delta == 0:\n",
    "    print('A equação possui apenas uma raiz')\n",
    "else:\n",
    "    x1 = (-b-math.sqrt(delta))/(2*a)\n",
    "    x2 = (-b+math.sqrt(delta))/(2*a)\n",
    "\n",
    "    print('As raizes são {} e {}' .format(Fraction(x1).limit_denominator(1000),\n",
    "                                              Fraction(x2).limit_denominator(1000)))"
   ]
  },
  {
   "cell_type": "code",
   "execution_count": 90,
   "metadata": {},
   "outputs": [
    {
     "name": "stdout",
     "output_type": "stream",
     "text": [
      "x1 =  -5.372281323269014\n",
      "x2 =  0.3722813232690143\n"
     ]
    }
   ],
   "source": [
    "# Dada a mesma equação, vamos resolve-la pelo método de Po-Shen Loh\n",
    "# Sabe-se que x1 + x2 = -b/a e que x1*x2 = c/a\n",
    "\n",
    "print('x1 = ' , ((-b/a)/2) - math.sqrt( ((-b/a)/2)**2  - (c/a)))\n",
    "print('x2 = ' , ((-b/a)/2) + math.sqrt( ((-b/a)/2)**2  - (c/a)))"
   ]
  }
 ],
 "metadata": {
  "kernelspec": {
   "display_name": "Python 3",
   "language": "python",
   "name": "python3"
  },
  "language_info": {
   "codemirror_mode": {
    "name": "ipython",
    "version": 3
   },
   "file_extension": ".py",
   "mimetype": "text/x-python",
   "name": "python",
   "nbconvert_exporter": "python",
   "pygments_lexer": "ipython3",
   "version": "3.11.2"
  },
  "orig_nbformat": 4
 },
 "nbformat": 4,
 "nbformat_minor": 2
}
